{
 "cells": [
  {
   "cell_type": "markdown",
   "metadata": {},
   "source": [
    "$$\n",
    "\\newcommand{\\x}{\\mathbf{x}}\n",
    "\\newcommand{\\y}{\\mathbf{y}}\n",
    "\\newcommand{\\price}{{p}}\n",
    "\\newcommand{\\ret}{{r}}\n",
    "\\newcommand{\\tp}{{(t)}}\n",
    "\\newcommand{\\aapl}{{\\text{AAPL}}}\n",
    "\\newcommand{\\ba}{{\\text{BA}}}\n",
    "\\newcommand{\\spy}{{\\text{SPY}}}\n",
    "$$"
   ]
  },
  {
   "cell_type": "markdown",
   "metadata": {},
   "source": [
    "# Assignment: Using Machine Learning for Hedging\n",
    "\n",
    "Welcome to the first assignment.  \n",
    "\n",
    "We will show how Machine Learning can be used in Finance to build multi-asset portfolios that have better risk/return characteristics than a portfolio consisting of a single asset.\n",
    "\n",
    "# Objectives\n",
    "We will be using Linear Regression to establish the relationship between the returns of individual equities and \"the market\".\n",
    "\n",
    "The purpose of the assignment is two-fold\n",
    "- to get you up to spped with Machine Learning in general, and `sklearn` in particular\n",
    "- to get you up to speed with the other programming tools (e.g., Pandas) that will help you in data preparation, etc.\n",
    "\n",
    "# How to report your answers\n",
    "I will mix explanation of the topic with tasks that you must complete. Look for \n",
    "the string \"**Queston**\" to find a task that you must perform.\n",
    "Most of the tasks will require you to assign values to variables and execute a `print` statement.\n",
    "\n",
    "**Motivation**\n",
    "\n",
    "If you *do not change* the print statement then the GA (or a machine) can automatically find your answer to each part by searching for the string.\n"
   ]
  },
  {
   "cell_type": "markdown",
   "metadata": {},
   "source": [
    "# The data\n",
    "\n",
    "The data are the daily prices of a number of individual equities and equity indices.\n",
    "The prices are arranged in a series in ascending date order (a timeseries).\n",
    "- There is a separate `.csv` file for each equity or index in the directory `data/assignment_1`\n",
    "\n",
    "## Reading the data\n",
    "\n",
    "You should get the price data into some sort of data structure.  Pandas DataFrame is super useful\n",
    "so I recommend that's what you use (not required though).\n",
    "\n",
    "**Hints**: \n",
    "- look up the Pandas `read_csv` method\n",
    "- it will be very convenient to use dates as the index of your DataFrame\n",
    "\n",
    "## Preliminary data preparation\n",
    "\n",
    "In the rest of the assignment we will *not* be working with prices but with *returns* (percent change in prices).\n",
    "For example, for ticker $\\aapl$ (Apple)\n",
    "\n",
    "$$\n",
    "\\begin{array}[lll]\\\\\n",
    "\\ret_\\aapl^\\tp = \\frac{\\price _\\aapl^\\tp}{\\price _\\aapl^{(t-1)}} -1 \\\\\n",
    "\\text{where} \\\\\n",
    "\\price_\\aapl^\\tp \\text{ denotes the price of ticker } \\aapl \\text{ on date } t \\\\\n",
    "\\ret_\\aapl^\\tp \\text{ denotes the return of ticker } \\aapl \\text{ on date } t\n",
    "\\end{array}\n",
    "$$\n",
    "\n",
    "- You will want to convert the price data into return data\n",
    "- We only want the returns for the year 2018; discard any other return\n",
    "\n",
    "**Question**\n",
    "Replace the 0 values in the following cell with your answers, and execute the print statements"
   ]
  },
  {
   "cell_type": "code",
   "execution_count": 9,
   "metadata": {},
   "outputs": [
    {
     "name": "stdout",
     "output_type": "stream",
     "text": [
      "            Dt   Close    Return\n",
      "3   2018-01-02  172.26  0.017905\n",
      "4   2018-01-03  172.23 -0.000174\n",
      "5   2018-01-04  173.03  0.004645\n",
      "6   2018-01-05  175.00  0.011385\n",
      "7   2018-01-08  174.35 -0.003714\n",
      "..         ...     ...       ...\n",
      "249 2018-12-24  146.83 -0.025874\n",
      "250 2018-12-26  157.17  0.070422\n",
      "251 2018-12-27  156.15 -0.006490\n",
      "252 2018-12-28  156.23  0.000512\n",
      "253 2018-12-31  157.74  0.009665\n",
      "\n",
      "[251 rows x 3 columns]\n",
      "There are 251 returns. First=0.02, Last=0.01, Avg=-0.00\n"
     ]
    }
   ],
   "source": [
    "import pandas as pd\n",
    "\n",
    "# Load data from the CSV file\n",
    "df = pd.read_csv(\"A1csv files/AAPL.csv\", parse_dates=[\"Dt\"])\n",
    "\n",
    "# Sort by date\n",
    "df = df.sort_values(\"Dt\")\n",
    "\n",
    "# Compute daily returns\n",
    "df[\"Return\"] = df[\"Close\"].pct_change()\n",
    "\n",
    "# Filter for 2018\n",
    "df_2018 = df[df[\"Dt\"].dt.year == 2018]\n",
    "\n",
    "# Compute required values in one line each\n",
    "num_returns = len(df_2018)  # Number of returns in 2018\n",
    "first_return = df_2018[\"Return\"].iloc[0] if not df_2018.empty else 0  # First return in 2018\n",
    "last_return = df_2018[\"Return\"].iloc[-1] if not df_2018.empty else 0  # Last return in 2018\n",
    "avg_return = df_2018[\"Return\"].mean() if not df_2018.empty else 0  # Average return in 2018\n",
    "print(df_2018)\n",
    "\n",
    "print(\"There are {num:d} returns. First={first:3.2f}, Last={last:3.2f}, Avg={avg:3.2f}\".format(num=num_returns, first=first_return, last=last_return, avg=avg_return))"
   ]
  },
  {
   "cell_type": "markdown",
   "metadata": {},
   "source": [
    "# Split into Train and Test datasets\n",
    "\n",
    "In general, you will split the data into two sets by choosing the members of each set at random.\n",
    "\n",
    "To facilitate grading for this assignment, we will *use a specific test set*\n",
    "- the training set are the returns for the months of January through September (inclusive), i.e., 9 months\n",
    "- the test set are the returns for the months of October through December (inclusive), i.e., 3 months\n",
    "\n",
    "Thus, you will be using the early part of the data for training, and the latter part of the data for testing.\n",
    "\n",
    "**Question**\n",
    "Replace the 0 values in the following cell with your answers, and execute the print statements"
   ]
  },
  {
   "cell_type": "code",
   "execution_count": 18,
   "metadata": {},
   "outputs": [
    {
     "name": "stdout",
     "output_type": "stream",
     "text": [
      "Training set: There are 188 returns. First=0.0179, Last=0.0035, Avg=0.0016\n",
      "Test set: There are 63 returns. First=0.0067, Last=0.0097, Avg=-0.0054\n"
     ]
    }
   ],
   "source": [
    "import pandas as pd\n",
    "\n",
    "# Load data from CSV\n",
    "df = pd.read_csv(\"A1csv files/AAPL.csv\", parse_dates=[\"Dt\"])\n",
    "\n",
    "# Sort by date to ensure chronological order\n",
    "df = df.sort_values(\"Dt\")\n",
    "\n",
    "# Compute daily returns\n",
    "df[\"Return\"] = df[\"Close\"].pct_change()\n",
    "\n",
    "# Filter data for **only the year 2018**\n",
    "df_2018 = df[df[\"Dt\"].dt.year == 2018].dropna()  # Drops NaN from pct_change()\n",
    "\n",
    "# Split into training (Jan-Sep) and testing (Oct-Dec) sets\n",
    "train_df = df_2018[(df_2018[\"Dt\"].dt.month >= 1) & (df_2018[\"Dt\"].dt.month <= 9)]  \n",
    "test_df = df_2018[(df_2018[\"Dt\"].dt.month >= 10) & (df_2018[\"Dt\"].dt.month <= 12)]  \n",
    "\n",
    "# Compute statistics for training set\n",
    "train_num_returns = len(train_df)  \n",
    "train_first_return = train_df[\"Return\"].iloc[0] if not train_df.empty else 0  \n",
    "train_last_return = train_df[\"Return\"].iloc[-1] if not train_df.empty else 0  \n",
    "train_avg_return = train_df[\"Return\"].mean() if not train_df.empty else 0  \n",
    "\n",
    "print(\"Training set: There are {num:d} returns. First={first:3.4f}, Last={last:3.4f}, Avg={avg:3.4f}\".format(\n",
    "    num=train_num_returns, first=train_first_return, last=train_last_return, avg=train_avg_return))\n",
    "\n",
    "# Compute statistics for test set\n",
    "test_num_returns = len(test_df)  \n",
    "test_first_return = test_df[\"Return\"].iloc[0] if not test_df.empty else 0  \n",
    "test_last_return = test_df[\"Return\"].iloc[-1] if not test_df.empty else 0  \n",
    "test_avg_return = test_df[\"Return\"].mean() if not test_df.empty else 0  \n",
    "\n",
    "print(\"Test set: There are {num:d} returns. First={first:3.4f}, Last={last:3.4f}, Avg={avg:3.4f}\".format(\n",
    "    num=test_num_returns, first=test_first_return, last=test_last_return, avg=test_avg_return))\n"
   ]
  },
  {
   "cell_type": "markdown",
   "metadata": {},
   "source": [
    "# $\\aapl$ regression\n",
    "\n",
    "Use Linear Regression to predict the return of a ticker from the return of the $\\spy$ index.\n",
    "For example, for ticker $\\aapl$\n",
    "\n",
    "$$\n",
    "\\ret_\\aapl^\\tp =  \\beta_{\\aapl, \\spy} * \\ret_\\spy^\\tp + \\epsilon_{\\aapl}^\\tp\n",
    "$$\n",
    "\n",
    "That is\n",
    "- each example is a pair consisting of one day's return \n",
    "    - of the ticker (e.g., $\\aapl$).  This is the target (e.g, $\\y$ in our lectures)\n",
    "    - of the index $\\spy$. This is a feature vector of length 1 (e.g., $\\x$ in our lectures)\n",
    "\n",
    "You will use Linear Regression to solve for parameter $\\beta_{\\aapl, \\spy}$ \n",
    "\n",
    "- In the lectures we used the symbol $\\Theta$ to denote the parameter vector; here we use $\\mathbf{\\beta}$\n",
    "- In Finance the symbol $\\beta$ is often used to denote the relationship between returns. \n",
    "- You may should add an \"intercept\" so that the feature vector is length 2 rather than length 1\n",
    "    - $\\x^\\tp = \\begin{pmatrix}\n",
    "        1 \\\\\n",
    "        \\ret_\\spy^\\tp\n",
    "        \\end{pmatrix}$\n"
   ]
  },
  {
   "cell_type": "markdown",
   "metadata": {},
   "source": [
    "\n",
    "\n",
    "- Report the $\\mathbf{\\beta}$ parameter vector you obtain for $\\aapl$\n",
    "    - you will subsequently do this for another ticker in a different part of the assignment\n",
    "        - so think ahead: you may want to parameterize your code\n",
    "        - change the assignment to `ticker` when you report the next part\n",
    "\n",
    "        \n",
    "**Question**\n",
    "Replace the 0 values in the following cell with your answers, and execute the print statements\n"
   ]
  },
  {
   "cell_type": "code",
   "execution_count": 41,
   "metadata": {},
   "outputs": [
    {
     "name": "stdout",
     "output_type": "stream",
     "text": [
      "AAPL: beta_0=0.00, beta_Benchmark=1.26\n"
     ]
    }
   ],
   "source": [
    "import pandas as pd\n",
    "import numpy as np\n",
    "from sklearn.linear_model import LinearRegression\n",
    "from sklearn.model_selection import cross_val_score\n",
    "\n",
    "def load_and_preprocess(stock_path, benchmark_path):\n",
    "    \"\"\" Load stock & benchmark data, compute daily returns, and merge them. \"\"\"\n",
    "    stock_df = pd.read_csv(stock_path, parse_dates=[\"Dt\"])\n",
    "    benchmark_df = pd.read_csv(benchmark_path, parse_dates=[\"Dt\"])\n",
    "\n",
    "    # Sort by date\n",
    "    stock_df = stock_df.sort_values(\"Dt\")\n",
    "    benchmark_df = benchmark_df.sort_values(\"Dt\")\n",
    "\n",
    "    # Compute daily returns\n",
    "    stock_df[\"Return\"] = stock_df[\"Close\"].pct_change()\n",
    "    benchmark_df[\"Return\"] = benchmark_df[\"Close\"].pct_change()\n",
    "\n",
    "    # Merge data on date\n",
    "    merged_df = pd.merge(stock_df[[\"Dt\", \"Return\"]], benchmark_df[[\"Dt\", \"Return\"]], on=\"Dt\", suffixes=(\"_Stock\", \"_Benchmark\"))\n",
    "\n",
    "    # Filter for 2018 & drop NaN values\n",
    "    df_2018 = merged_df[merged_df[\"Dt\"].dt.year == 2018].dropna()\n",
    "\n",
    "    return df_2018\n",
    "\n",
    "def compute_regression(df):\n",
    "    \"\"\" Perform linear regression to estimate beta parameters. \"\"\"\n",
    "    X = df[[\"Return_Benchmark\"]].values  # Feature: Benchmark return\n",
    "    y = df[\"Return_Stock\"].values        # Target: Stock return\n",
    "\n",
    "    # Add intercept term\n",
    "    X = np.c_[np.ones(X.shape[0]), X]\n",
    "\n",
    "    # Fit Linear Regression model\n",
    "    model = LinearRegression(fit_intercept=False)\n",
    "    model.fit(X, y)\n",
    "\n",
    "    # Extract parameters\n",
    "    beta_0, beta_stock = model.coef_\n",
    "\n",
    "    return beta_0, beta_stock, model, X, y\n",
    "\n",
    "def compute_cross_val_score(model, X, y, ticker):\n",
    "    \"\"\" Compute and print the 5-fold cross-validation score. \"\"\"\n",
    "    cv_scores = cross_val_score(model, X, y, cv=5, scoring=\"r2\")\n",
    "    cross_val_avg = np.mean(cv_scores)\n",
    "\n",
    "    print(\"{t:s}: Avg cross val score = {sc:3.2f}\".format(t=ticker, sc=cross_val_avg))\n",
    "\n",
    "    return cross_val_avg  # In case we need the value later\n",
    "\n",
    "def run_analysis(stock_path, benchmark_path, ticker):\n",
    "    \"\"\" Full pipeline: Load data, compute regression, and cross-validation. \"\"\"\n",
    "    df_2018 = load_and_preprocess(stock_path, benchmark_path)\n",
    "\n",
    "    # Compute regression\n",
    "    beta_0, beta_stock, model, X, y = compute_regression(df_2018)\n",
    "\n",
    "    # Print beta values\n",
    "    print(\"{t:s}: beta_0={b0:3.2f}, beta_Benchmark={b1:3.2f}\".format(t=ticker, b0=beta_0, b1=beta_stock))\n",
    "\n",
    "    \n",
    "ticker = 'APPL'\n",
    "# Run for AAPL using SPY as benchmark\n",
    "run_analysis(\"A1csv files/AAPL.csv\", \"A1csv files/SPY.csv\", \"AAPL\")\n",
    "\n",
    "# β_0 = 0 is logical, since AAPL’s return is mostly dependent on market returns\n",
    "# AAPL moves 1.26x more than SPY, which is expected for a high-growth tech stock"
   ]
  },
  {
   "cell_type": "markdown",
   "metadata": {},
   "source": [
    "- Report the average of the cross validation scores, using 5 fold cross validation\n",
    "\n",
    "**Question**\n",
    "Replace the 0 values in the following cell with your answers, and execute the print statements\n"
   ]
  },
  {
   "cell_type": "code",
   "execution_count": 46,
   "metadata": {},
   "outputs": [
    {
     "name": "stdout",
     "output_type": "stream",
     "text": [
      "AAPL: Avg cross val score = 0.46\n"
     ]
    }
   ],
   "source": [
    "cross_val_avg = np.mean(cv_scores)\n",
    "\n",
    "print(\"{t:s}: Avg cross val score = {sc:3.2f}\".format(t=ticker, sc=cross_val_avg) )\n",
    "# 46% of its movement is explained by SPY, meaning the market is a big influence, but not the only one"
   ]
  },
  {
   "cell_type": "markdown",
   "metadata": {},
   "source": [
    "## $\\aapl$ hedged returns\n",
    "\n",
    "- Compute the series\n",
    "$$\n",
    "{\\ret'}_{\\aapl}^\\tp = \\ret_\\aapl^\\tp - \\beta_{\\aapl, \\spy} * \\ret_\\spy^\\tp\n",
    "$$\n",
    "for all dates $t$ in the test set.  \n",
    "- Sort the dates in ascending order and plot the timeseries ${\\ret}'_{\\aapl}$\n",
    "\n",
    "${\\ret}'_{\\aapl}$ is called the \"hedged return\" of $\\aapl$\n",
    "- It is the daily return you would realize if you created a portfolio that was\n",
    "    - long 1 dollar of $\\aapl$\n",
    "    - short $\\beta_{\\aapl, \\spy}$ dollars of the index $\\spy$\n",
    "- It represents the outperformance of $\\aapl$ relative to the index $\\spy$\n",
    "    - $\\spy$ is the proxy for \"the market\" (it tracks the S&P 500 index)\n",
    "    - The hedged return is the *value added* by going long $\\aapl$ rather than just going \"long the market\"\n",
    "    - Sometimes referred to as the \"alpha\" ($\\alpha_\\aapl$)\n",
    "- So **if** you are able to correctly forecast that $\\aapl$ will have positive outperformance (i.e, have $\\alpha_\\aapl > 0$ most days)\n",
    "    - then you can earn a positive return regardless of whether the market ($\\spy$) goes up or down !\n",
    "    - this is much lower risk than just holding $\\aapl$ long\n",
    "    - people will pay you very well if you can really forecast correctly !\n",
    "\n",
    "**Question**\n",
    "Replace the 0 values in the following cell with your answers, and execute the print statements"
   ]
  },
  {
   "cell_type": "code",
   "execution_count": 39,
   "metadata": {},
   "outputs": [
    {
     "name": "stdout",
     "output_type": "stream",
     "text": [
      "AAPL hedged returns: There are 251 returns. First=0.0089, Last=-0.0014, Avg=0.0001\n"
     ]
    }
   ],
   "source": [
    "import pandas as pd\n",
    "import numpy as np\n",
    "\n",
    "def load_and_preprocess(stock_path, benchmark_path):\n",
    "    \"\"\" Load stock & benchmark data, compute daily returns, and merge them. \"\"\"\n",
    "    stock_df = pd.read_csv(stock_path, parse_dates=[\"Dt\"])\n",
    "    benchmark_df = pd.read_csv(benchmark_path, parse_dates=[\"Dt\"])\n",
    "\n",
    "    # Sort by date\n",
    "    stock_df = stock_df.sort_values(\"Dt\")\n",
    "    benchmark_df = benchmark_df.sort_values(\"Dt\")\n",
    "\n",
    "    # Compute daily returns\n",
    "    stock_df[\"Return\"] = stock_df[\"Close\"].pct_change()\n",
    "    benchmark_df[\"Return\"] = benchmark_df[\"Close\"].pct_change()\n",
    "\n",
    "    # Merge data on date\n",
    "    merged_df = pd.merge(stock_df[[\"Dt\", \"Return\"]], benchmark_df[[\"Dt\", \"Return\"]], on=\"Dt\", suffixes=(\"_Stock\", \"_Benchmark\"))\n",
    "\n",
    "    # Filter for 2018 & drop NaN values\n",
    "    df_2018 = merged_df[merged_df[\"Dt\"].dt.year == 2018].dropna()\n",
    "\n",
    "    return df_2018\n",
    "\n",
    "def compute_hedged_returns(df, beta_stock, ticker):\n",
    "    \"\"\" Compute hedged returns: r'_Stock = r_Stock - beta * r_Benchmark \"\"\"\n",
    "    df.loc[:, \"Hedged_Return\"] = df[\"Return_Stock\"] - (beta_stock * df[\"Return_Benchmark\"])\n",
    "\n",
    "    hedged_num_returns = len(df)\n",
    "    hedged_first_return = df[\"Hedged_Return\"].iloc[0] if not df.empty else 0\n",
    "    hedged_last_return = df[\"Hedged_Return\"].iloc[-1] if not df.empty else 0\n",
    "    hedged_avg_return = df[\"Hedged_Return\"].mean() if not df.empty else 0\n",
    "\n",
    "    print(\"{t:s} hedged returns: There are {num:d} returns. First={first:3.4f}, Last={last:3.4f}, Avg={avg:3.4f}\".format(\n",
    "        t=ticker, num=hedged_num_returns, first=hedged_first_return, last=hedged_last_return, avg=hedged_avg_return))\n",
    "    \n",
    "    return df\n",
    "\n",
    "# Load data\n",
    "df_2018 = load_and_preprocess(\"A1csv files/AAPL.csv\", \"A1csv files/SPY.csv\")\n",
    "\n",
    "# Use previously computed beta (β_AAPL,SPY)\n",
    "beta_SPY = 1.26  # From regression\n",
    "\n",
    "# Compute hedged returns\n",
    "df_2018 = compute_hedged_returns(df_2018, beta_SPY, \"AAPL\")\n"
   ]
  },
  {
   "cell_type": "markdown",
   "metadata": {},
   "source": [
    "# $\\ba$ regression\n",
    "\n",
    "Repeat the regression you carried out for $\\aapl$ but this time instead for the ticker $\\ba$ (Boeing)\n",
    "\n",
    "**Motivation**\n",
    "\n",
    "The idea is to encourage you to build re-usable pieces of code.\n",
    "\n",
    "So if you created some functions in solving Part 1, you may reuse these functions to easily solve part 2,\n",
    "particulary if you treated the ticker (e.g., $\\aapl$ or $\\ba$) as a parameter to your functions.\n",
    "\n",
    "If you simply copy and paste the code from Part 1 you will only get partial credit.\n"
   ]
  },
  {
   "cell_type": "markdown",
   "metadata": {},
   "source": [
    "**Question**\n",
    "Replace the 0 values in the following cell with your answers, and execute the print statements"
   ]
  },
  {
   "cell_type": "code",
   "execution_count": 6,
   "metadata": {},
   "outputs": [
    {
     "name": "stdout",
     "output_type": "stream",
     "text": [
      "BA: beta_0=0.00, beta_SPY=0.00\n"
     ]
    }
   ],
   "source": [
    "beta_0 = 0    # The regression parameter for the constant\n",
    "beta_SPY = 0  # The regression parameter for the return of SPY\n",
    "ticker = \"BA\"\n",
    "\n",
    "print(\"{t:s}: beta_0={b0:3.2f}, beta_SPY={b1:3.2f}\".format(t=ticker, b0=beta_0, b1=beta_SPY))\n"
   ]
  },
  {
   "cell_type": "markdown",
   "metadata": {},
   "source": [
    "**Question**\n",
    "Replace the 0 values in the following cell with your answers, and execute the print statements"
   ]
  },
  {
   "cell_type": "code",
   "execution_count": 7,
   "metadata": {},
   "outputs": [
    {
     "name": "stdout",
     "output_type": "stream",
     "text": [
      "BA: Avg cross val score = 0.00\n"
     ]
    }
   ],
   "source": [
    "cross_val_avg = 0\n",
    "\n",
    "print(\"{t:s}: Avg cross val score = {sc:3.2f}\".format(t=ticker, sc=cross_val_avg) )"
   ]
  },
  {
   "cell_type": "markdown",
   "metadata": {},
   "source": [
    "**Question**\n",
    "Replace the 0 values in the following cell with your answers, and execute the print statements"
   ]
  },
  {
   "cell_type": "code",
   "execution_count": 8,
   "metadata": {},
   "outputs": [
    {
     "name": "stdout",
     "output_type": "stream",
     "text": [
      "BA hedged returns: There are 0 returns. First=0.00, Last=0.00, Avg=0.00\n"
     ]
    }
   ],
   "source": [
    "hedged_num_returns = 0  # Number of returns in hedged series\n",
    "hedged_first_return = 0 # The return on the earliest date in hedged series\n",
    "hedged_last_return  = 0 # The return on the latest date in hedged series\n",
    "hedged_avg_return  = 0  # The average return over the hedged series\n",
    "\n",
    "ticker=\"BA\"\n",
    "print(\"{t:s} hedged returns: There are {num:d} returns. First={first:3.2f}, Last={last:3.2f}, Avg={avg:3.2f}\".format(t=ticker,\n",
    "                                                                                                                    num=hedged_num_returns,\n",
    "                                                                                                                    first=hedged_first_return, \n",
    "                                                                                                                    last=hedged_last_return, \n",
    "                                                                                                                    avg=hedged_avg_return))\n"
   ]
  },
  {
   "cell_type": "markdown",
   "metadata": {},
   "source": [
    "# Returns to prices\n",
    "\n",
    "- You have already computed the predicted returns of $\\aapl$ for each date in the test set.\n",
    "- Create the predicted *price* timeseries for $\\aapl$ for the date range in the test set\n",
    "- Plot (on the same graph) the actual price timeseries of $\\aapl$ and the predicted price timeseries.\n",
    "\n",
    "There is a particular reason that we choose to perform the Linear Regression on returns rather than prices.\n",
    "\n",
    "It is beyond the scope of this lecture to explain why, but we want to show that we can easily convert\n",
    "back into prices.\n",
    "\n",
    "**Question**\n",
    "Replace the 0 values in the following cell with your answers, and execute the print statements"
   ]
  },
  {
   "cell_type": "code",
   "execution_count": 9,
   "metadata": {},
   "outputs": [
    {
     "name": "stdout",
     "output_type": "stream",
     "text": [
      "AAPL predicted prices: There are 0 prices. First=0.00, Last=0.00, Avg=0.00\n"
     ]
    }
   ],
   "source": [
    "num_prices = 0  # Number of prices in price series\n",
    "first_price = 0 # The price on the earliest date in price series\n",
    "last_price  = 0 # The price on the latest date in price series\n",
    "avg_price  = 0  # The average price over the price series\n",
    "\n",
    "ticker=\"AAPL\"\n",
    "print(\"{t:s} predicted prices: There are {num:d} prices. First={first:3.2f}, Last={last:3.2f}, Avg={avg:3.2f}\".format(t=ticker,\n",
    "                                                                                                                    num=num_prices,\n",
    "                                                                                                                    first=first_price, \n",
    "                                                                                                                    last=last_price, \n",
    "                                                                                                                    avg=avg_price))\n",
    " "
   ]
  },
  {
   "cell_type": "markdown",
   "metadata": {},
   "source": [
    "# Extra credit\n",
    "\n",
    "The data directory has the prices of many other indices.\n",
    "- Any ticker in the directory beginning with the letter \"X\" is an index\n",
    "\n",
    "Choose *one* index (we'll call it $I$) other than $\\spy$ to use as a second feature and compute the Linear Regression\n",
    "\n",
    "$$\n",
    "\\ret_\\aapl^\\tp = \\beta^T \\x + \\epsilon_{\\aapl}^\\tp\n",
    "$$\n",
    "\n",
    "where $\\x$ is the feature vector\n",
    "  - $\\x^\\tp = \\begin{pmatrix}\n",
    "        1 \\\\\n",
    "        \\ret_\\spy^\\tp \\\\\n",
    "        \\ret_I^\\tp \\\\\n",
    "        \\end{pmatrix}$\n",
    "\n",
    "That is, predict the returns of $\\aapl$ in terms of a constant, the returns of $\\spy$ and the returns of another index $I$.\n",
    "\n",
    "**Question**\n",
    "There is no specified format.  Treat this like an interview question and show off your analytical\n",
    "and explanatory skills. Be sure to explain how you came about choosing the second index."
   ]
  }
 ],
 "metadata": {
  "kernelspec": {
   "display_name": "Python [conda env:base] *",
   "language": "python",
   "name": "conda-base-py"
  },
  "language_info": {
   "codemirror_mode": {
    "name": "ipython",
    "version": 3
   },
   "file_extension": ".py",
   "mimetype": "text/x-python",
   "name": "python",
   "nbconvert_exporter": "python",
   "pygments_lexer": "ipython3",
   "version": "3.12.7"
  },
  "toc": {
   "base_numbering": 1,
   "nav_menu": {},
   "number_sections": true,
   "sideBar": true,
   "skip_h1_title": false,
   "title_cell": "Table of Contents",
   "title_sidebar": "Contents",
   "toc_cell": false,
   "toc_position": {
    "height": "calc(100% - 180px)",
    "left": "10px",
    "top": "150px",
    "width": "370.594px"
   },
   "toc_section_display": true,
   "toc_window_display": true
  }
 },
 "nbformat": 4,
 "nbformat_minor": 4
}
